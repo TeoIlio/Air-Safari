{
 "cells": [
  {
   "cell_type": "code",
   "execution_count": null,
   "id": "c884a5bc",
   "metadata": {},
   "outputs": [],
   "source": [
    "#AVL automation\n",
    "\n",
    "\n",
    "\n",
    "import numpy as np\n",
    "import os \n",
    "import subprocess\n",
    "import matplotlib.pyplot as plt \n",
    "from dataclasses import dataclass\n",
    "import math \n",
    "import paths\n",
    "import sys\n",
    "sys.path.append(paths.sys_path)\n",
    "import re\n",
    "\n",
    "from AVL_templates.AVL_geom_template import uav_geometry \n",
    "from  AVL_templates.AVL_mass_template import uav_mass_properties \n",
    "from  AVL_templates.AVL_RunCase_template import uav_runcase\n",
    "from AVL_solver_processes.AVL_surface_forces_derivation import FN_batch_and_plots\n",
    "from AVL_solver_processes.AVL_stability_derivation import stability_derivation \n",
    "from AVL_solver_processes.AVL_total_forces_derivation import total_forces_batch_and_plots\n",
    "from  AVL_dataclasses.AVL_geometry_file_dataclass import GeometryFileData \n",
    "from AVL_dataclasses.AVL_mass_file_dataclass import MassFileData\n",
    "from AVL_dataclasses.AVL_runcase_dataclass import RunCaseFileData\n",
    "from AVL_file_generation.AVL_geometry_generation import geometry_gen\n",
    "from AVL_file_generation.AVL_mass_generation import mass_gen\n",
    "from AVL_file_generation.AVL_runcase_generation import runcase_gen\n",
    "from AVL_data_final.AVL_geom_data_final import geometry_data_func\n",
    "from AVL_data_final.AVL_mass_data_final import mass_data_func\n",
    "from AVL_data_final.AVL_runcase_data_final import runcase_data_func\n",
    "from AVL_solver_processes.AVL_lift_distribution import lift_distribution_derivation \n",
    "from AVL_solver_processes.AVL_lift_distribution import lift_dist_plots\n",
    "\n"
   ]
  }
 ],
 "metadata": {
  "kernelspec": {
   "display_name": "Python 3",
   "language": "python",
   "name": "python3"
  },
  "language_info": {
   "name": "python",
   "version": "3.13.3"
  }
 },
 "nbformat": 4,
 "nbformat_minor": 5
}
